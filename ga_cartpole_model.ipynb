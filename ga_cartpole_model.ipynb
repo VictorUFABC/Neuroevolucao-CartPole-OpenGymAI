{
 "cells": [
  {
   "cell_type": "code",
   "execution_count": 19,
   "metadata": {
    "collapsed": false
   },
   "outputs": [
    {
     "name": "stdout",
     "output_type": "stream",
     "text": [
      "The autoreload extension is already loaded. To reload it, use:\n",
      "  %reload_ext autoreload\n"
     ]
    }
   ],
   "source": [
    "%load_ext autoreload\n",
    "%autoreload 2\n",
    "\n",
    "import pandas as pd\n",
    "import numpy as np\n",
    "\n",
    "from cartPoleGA import population\n",
    "\n",
    "population = population(10)"
   ]
  },
  {
   "cell_type": "code",
   "execution_count": 20,
   "metadata": {
    "collapsed": false
   },
   "outputs": [
    {
     "data": {
      "text/plain": [
       "max     79.400000\n",
       "mean    25.690000\n",
       "min      9.000000\n",
       "std     23.441094\n",
       "dtype: float64"
      ]
     },
     "execution_count": 20,
     "metadata": {},
     "output_type": "execute_result"
    }
   ],
   "source": [
    "from statistics import pstdev, mean\n",
    "\n",
    "def max_min_average_std(pop):\n",
    "    \"Retorna fitness maximo, minimo, media, e variancia\"\n",
    "    fits = [model[0] for model in pop]\n",
    "    max_ = max(fits)\n",
    "    min_ = min(fits)\n",
    "    mean_ = mean(fits)\n",
    "    std = pstdev(fits)\n",
    "    return pd.Series({'max': max_, 'min':min_,'mean':mean_,'std':std})\n",
    "\n",
    "max_min_average_std(population)"
   ]
  },
  {
   "cell_type": "code",
   "execution_count": 24,
   "metadata": {
    "collapsed": false
   },
   "outputs": [
    {
     "data": {
      "text/html": [
       "<div>\n",
       "<table border=\"1\" class=\"dataframe\">\n",
       "  <thead>\n",
       "    <tr style=\"text-align: right;\">\n",
       "      <th></th>\n",
       "      <th>Fitness</th>\n",
       "    </tr>\n",
       "    <tr>\n",
       "      <th>Individuo</th>\n",
       "      <th></th>\n",
       "    </tr>\n",
       "  </thead>\n",
       "  <tbody>\n",
       "    <tr>\n",
       "      <th>0</th>\n",
       "      <td>29.4</td>\n",
       "    </tr>\n",
       "    <tr>\n",
       "      <th>1</th>\n",
       "      <td>38.4</td>\n",
       "    </tr>\n",
       "    <tr>\n",
       "      <th>2</th>\n",
       "      <td>9.3</td>\n",
       "    </tr>\n",
       "    <tr>\n",
       "      <th>3</th>\n",
       "      <td>9.0</td>\n",
       "    </tr>\n",
       "    <tr>\n",
       "      <th>4</th>\n",
       "      <td>54.2</td>\n",
       "    </tr>\n",
       "    <tr>\n",
       "      <th>5</th>\n",
       "      <td>9.1</td>\n",
       "    </tr>\n",
       "    <tr>\n",
       "      <th>6</th>\n",
       "      <td>9.3</td>\n",
       "    </tr>\n",
       "    <tr>\n",
       "      <th>7</th>\n",
       "      <td>9.1</td>\n",
       "    </tr>\n",
       "    <tr>\n",
       "      <th>8</th>\n",
       "      <td>9.7</td>\n",
       "    </tr>\n",
       "    <tr>\n",
       "      <th>9</th>\n",
       "      <td>79.4</td>\n",
       "    </tr>\n",
       "  </tbody>\n",
       "</table>\n",
       "</div>"
      ],
      "text/plain": [
       "           Fitness\n",
       "Individuo         \n",
       "0             29.4\n",
       "1             38.4\n",
       "2              9.3\n",
       "3              9.0\n",
       "4             54.2\n",
       "5              9.1\n",
       "6              9.3\n",
       "7              9.1\n",
       "8              9.7\n",
       "9             79.4"
      ]
     },
     "execution_count": 24,
     "metadata": {},
     "output_type": "execute_result"
    }
   ],
   "source": [
    "def fits(population):\n",
    "    return [a[0] for a in population]\n",
    "\n",
    "df = pd.DataFrame({'Individuo': list(range(10)), 'Fitness': fits(population)})\n",
    "df.set_index('Individuo')"
   ]
  },
  {
   "cell_type": "code",
   "execution_count": 53,
   "metadata": {
    "collapsed": false
   },
   "outputs": [],
   "source": [
    "from cartPoleGA import evolve\n",
    "\n",
    "def generations(pop, n_gen=30, max_pop=10):\n",
    "    melhores = []\n",
    "    initial_population = pop\n",
    "    for i in range(n_gen):\n",
    "        new_population = evolve(initial_population, max_pop = max_pop)\n",
    "        initial_population = new_population\n",
    "        melhores_ = [ind[0] for ind in initial_population]\n",
    "        melhores.append({i:melhores_[0:5]})\n",
    "        print(\"Melhores da geração {}: {}\".format(i,melhores_[0:5]))\n",
    "        \n",
    "    return new_population, melhores"
   ]
  },
  {
   "cell_type": "code",
   "execution_count": null,
   "metadata": {
    "collapsed": false
   },
   "outputs": [
    {
     "name": "stdout",
     "output_type": "stream",
     "text": [
      "Melhores da geração 0: [79.4, 54.2, 38.4, 29.4, 40.1]\n",
      "Melhores da geração 1: [92.8, 79.4, 72.3, 67.8, 64.7]\n",
      "Melhores da geração 2: [92.8, 82.2, 79.4, 74.1, 71.3]\n",
      "Melhores da geração 3: [98.1, 92.8, 90.6, 84.3, 67.3]\n",
      "Melhores da geração 4: [98.1, 92.8, 90.6, 85.4, 89.4]\n",
      "Melhores da geração 5: [98.1, 92.8, 90.6, 89.4, 85.1]\n",
      "Melhores da geração 6: [98.1, 92.8, 90.6, 89.4, 70.0]\n",
      "Melhores da geração 7: [98.1, 92.8, 90.6, 89.4, 75.7]\n"
     ]
    }
   ],
   "source": [
    "evolved, melhores = generations(population, n_gen = 30)"
   ]
  },
  {
   "cell_type": "code",
   "execution_count": 10,
   "metadata": {
    "collapsed": false
   },
   "outputs": [
    {
     "data": {
      "image/png": "[encoded data removed]",
      "text/plain": [
       "<matplotlib.figure.Figure at 0x257bd3e5eb8>"
      ]
     },
     "metadata": {},
     "output_type": "display_data"
    }
   ],
   "source": [
    "import matplotlib.pyplot as plt\n",
    "x = pd.concat(stats, axis=1).iloc[0]\n",
    "plt.plot(x)\n",
    "plt.plot(x)\n",
    "plt.ylabel('Fitness')\n",
    "plt.xlabel('Geração')\n",
    "plt.show()"
   ]
  },
  {
   "cell_type": "code",
   "execution_count": 16,
   "metadata": {
    "collapsed": false
   },
   "outputs": [
    {
     "data": {
      "image/png": "[encoded data removed]",
      "text/plain": [
       "<matplotlib.figure.Figure at 0x1c89c67a390>"
      ]
     },
     "metadata": {},
     "output_type": "display_data"
    }
   ],
   "source": [
    "import matplotlib.pyplot as plt\n",
    "x_0 = pd.concat(stats_1, axis=1).iloc[0]\n",
    "x_1 = pd.concat(stats_2, axis=1).iloc[0]\n",
    "plt.plot(x_0)\n",
    "plt.plot(x_1)\n",
    "plt.ylabel('Fitness')\n",
    "plt.xlabel('Geração')\n",
    "plt.show()"
   ]
  },
  {
   "cell_type": "code",
   "execution_count": 23,
   "metadata": {
    "collapsed": false
   },
   "outputs": [
    {
     "data": {
      "image/png": "[encoded data removed]",
      "text/plain": [
       "<matplotlib.figure.Figure at 0x154fdc7d860>"
      ]
     },
     "metadata": {},
     "output_type": "display_data"
    }
   ],
   "source": [
    "import matplotlib.pyplot as plt\n",
    "x_0 = pd.concat(stats_1, axis=1).iloc[0]\n",
    "x_1 = pd.concat(stats_2, axis=1).iloc[0]\n",
    "x_2 = pd.concat(stats_3, axis=1).iloc[0]\n",
    "plt.plot(x_0)\n",
    "plt.plot(x_1)\n",
    "plt.plot(x_2)\n",
    "plt.ylabel('Fitness')\n",
    "plt.xlabel('Geração')\n",
    "plt.legend(['Iteração 1','Iteração 2','Iteração 3'])\n",
    "plt.show()"
   ]
  }
 ],
 "metadata": {
  "kernelspec": {
   "display_name": "Python 3",
   "language": "python",
   "name": "python3"
  },
  "language_info": {
   "codemirror_mode": {
    "name": "ipython",
    "version": 3
   },
   "file_extension": ".py",
   "mimetype": "text/x-python",
   "name": "python",
   "nbconvert_exporter": "python",
   "pygments_lexer": "ipython3",
   "version": "3.6.0"
  }
 },
 "nbformat": 4,
 "nbformat_minor": 2
}
